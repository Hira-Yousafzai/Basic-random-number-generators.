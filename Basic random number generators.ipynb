{
 "cells": [
  {
   "cell_type": "markdown",
   "metadata": {},
   "source": [
    "# Basic random number generators"
   ]
  },
  {
   "cell_type": "code",
   "execution_count": 21,
   "metadata": {},
   "outputs": [],
   "source": [
    "import matplotlib.pyplot as plt\n",
    "import numpy as np\n",
    "import time\n",
    "%config InlineBackend.figure_format='retina'"
   ]
  },
  {
   "cell_type": "code",
   "execution_count": 22,
   "metadata": {},
   "outputs": [],
   "source": [
    "plt.rcParams['text.usetex'] = True\n",
    "plt.rcParams['xtick.direction'] = 'in'\n",
    "plt.rcParams['ytick.direction'] = 'in'"
   ]
  },
  {
   "cell_type": "markdown",
   "metadata": {},
   "source": [
    "## Uniform generator"
   ]
  },
  {
   "cell_type": "markdown",
   "metadata": {},
   "source": [
    "We are going to construct the mixed congruential generator,\n",
    "$$\n",
    "m_{i+1}=(am_i+c) mod (M),\\quad m\\in (0,M-1),\n",
    "$$\n",
    "to generate random numbers. "
   ]
  },
  {
   "cell_type": "code",
   "execution_count": 23,
   "metadata": {},
   "outputs": [],
   "source": [
    "def uniform(low=0,high=1,seed=456,size=1):\n",
    "    a,m,c,M=65539,seed,3500,2**16\n",
    "    rnd=[]\n",
    "    for i in range(size):\n",
    "        m=(a*m+c)%M \n",
    "        m=m/M\n",
    "        x=x=(high-low)*m+low \n",
    "        rnd.append(x)\n",
    "    return rnd"
   ]
  },
  {
   "cell_type": "markdown",
   "metadata": {},
   "source": [
    "Let us test if the distribution is uniform or not."
   ]
  },
  {
   "cell_type": "code",
   "execution_count": 24,
   "metadata": {},
   "outputs": [
    {
     "data": {
      "text/plain": [
       "Text(0, 0.5, 'Pdf')"
      ]
     },
     "execution_count": 24,
     "metadata": {},
     "output_type": "execute_result"
    },
    {
     "data": {
      "image/png": "[encoded data removed]",
      "text/plain": [
       "<Figure size 432x288 with 1 Axes>"
      ]
     },
     "metadata": {
      "image/png": {
       "height": 271,
       "width": 378
      },
      "needs_background": "light"
     },
     "output_type": "display_data"
    }
   ],
   "source": [
    "my_gen=uniform(size=2**16)\n",
    "plt.hist(my_gen,density=True) \n",
    "plt.title('$2^{16}$ numbers')\n",
    "plt.xlabel('numbers')\n",
    "plt.ylabel('Pdf')"
   ]
  },
  {
   "cell_type": "markdown",
   "metadata": {},
   "source": [
    "## Random choice"
   ]
  },
  {
   "cell_type": "markdown",
   "metadata": {},
   "source": [
    "We will now write the random choice generator to select points from above distribution. We use system clock to randomly choose the seed for above generator."
   ]
  },
  {
   "cell_type": "code",
   "execution_count": 26,
   "metadata": {},
   "outputs": [],
   "source": [
    "def choice(lst):\n",
    "    t=time.perf_counter()\n",
    "    seed=int(10**9*float(str(t-int(t))[0:]))\n",
    "    s=uniform(low=1,high=2**16,seed=seed,size=1)[0]\n",
    "    idx=int(s)%len(lst)\n",
    "    return lst[idx]"
   ]
  },
  {
   "cell_type": "markdown",
   "metadata": {},
   "source": [
    "Let us test it."
   ]
  },
  {
   "cell_type": "code",
   "execution_count": 28,
   "metadata": {},
   "outputs": [
    {
     "name": "stdout",
     "output_type": "stream",
     "text": [
      "8\n",
      "1\n",
      "4\n",
      "7\n",
      "1\n",
      "1\n",
      "1\n"
     ]
    }
   ],
   "source": [
    "for r in range(7):\n",
    "    print(choice(np.arange(0,10,1)))"
   ]
  },
  {
   "cell_type": "markdown",
   "metadata": {},
   "source": [
    "## Non-uniform generator"
   ]
  },
  {
   "cell_type": "markdown",
   "metadata": {},
   "source": [
    "For this method, we will generate the pdf, $f_\\hat{x} (x) = C exp( \\frac{1}{2}x^2 - x^4 )$.\n",
    "\n",
    "The random numbers will be generated from,\n",
    "$$\n",
    "g(x)=\\frac{1}{\\sqrt{2\\pi}}exp(-\\frac{1}{2}x^2),\\quad x\\in (-\\infty ,\\infty )\n",
    "$$\n",
    "and the acceptance function will be,\n",
    "$$\n",
    "h(x)=exp(x^2-x^4).\n",
    "$$"
   ]
  },
  {
   "cell_type": "code",
   "execution_count": 34,
   "metadata": {
    "colab": {
     "base_uri": "https://localhost:8080/"
    },
    "executionInfo": {
     "elapsed": 152,
     "status": "ok",
     "timestamp": 1636333105637,
     "user": {
      "displayName": "noshah noshah",
      "photoUrl": "https://lh3.googleusercontent.com/a-/AOh14GgkTRhrrqPN9HB2tHKYbRJgstsa7FDBTuxCC8HTBQ=s64",
      "userId": "16058168177383914094"
     },
     "user_tz": 360
    },
    "id": "0bZ-LDYYDH4Z",
    "outputId": "59ecd522-b976-48bf-96cf-c5117aa1ead5"
   },
   "outputs": [],
   "source": [
    "def maximum(x=np.linspace(-5,5,100)):\n",
    "    y2=np.exp((x**2) -(x**4))\n",
    "    return round(y2.max(),3)"
   ]
  },
  {
   "cell_type": "code",
   "execution_count": 35,
   "metadata": {},
   "outputs": [
    {
     "data": {
      "text/plain": [
       "1.278"
      ]
     },
     "execution_count": 35,
     "metadata": {},
     "output_type": "execute_result"
    }
   ],
   "source": [
    "maximum()"
   ]
  },
  {
   "cell_type": "markdown",
   "metadata": {},
   "source": [
    "The function $h(x)$ has a maximu vlaue $\\approx 1.278$, so to keep $h(x)\\in(0,1)$, we devide $h(x)$ by this number to bring it in the range $(0,1)$.\n",
    "$$\n",
    "h(x)=\\frac{exp(x^2-x^4)}{1.278}.\n",
    "$$"
   ]
  },
  {
   "cell_type": "markdown",
   "metadata": {},
   "source": [
    "The normalization constant can be determined from the above choice of $g(x)$ and $h(x)$ as following.\n",
    "\n",
    "Since the given distribution $f_\\hat{x} (x) = C exp( \\frac{1}{2}x^2 - x^4 )$ was supposed as$f_\\hat{x} (x) = C \\sqrt{2\\pi}g(x)h(x)$. Upon integrating both sides,we get,\n",
    "$$\n",
    "\\begin{eqnarray}\n",
    "C\\sqrt{2\\pi}\\int_{-\\infty}^\\infty g(x)h(x) dx &=&1,\n",
    "\\end{eqnarray}\n",
    "$$\n",
    "$$\n",
    "C=\\frac{1}{1.278\\sqrt{2\\pi}\\epsilon},\n",
    "$$\n",
    "\n",
    "where,\n",
    "$$\n",
    "\\epsilon=\\int_{-\\infty}^\\infty exp(x^2 - x^4 ) dx,\n",
    "$$\n",
    "can be computed using importance sampling method. "
   ]
  },
  {
   "cell_type": "markdown",
   "metadata": {},
   "source": [
    "We now compute the constant $C$ and generate the distribution for $10^6$ Monte Carlo sweeps."
   ]
  },
  {
   "cell_type": "code",
   "execution_count": 43,
   "metadata": {
    "colab": {
     "base_uri": "https://localhost:8080/"
    },
    "executionInfo": {
     "elapsed": 688,
     "status": "ok",
     "timestamp": 1636147645729,
     "user": {
      "displayName": "Hira Ali",
      "photoUrl": "https://lh3.googleusercontent.com/a-/AOh14Gi_WQqZpvJAIgvqDrT9qJrjdP6Rxo6zfggXAs3pfQ=s64",
      "userId": "09960452349254803828"
     },
     "user_tz": 420
    },
    "id": "2EXDj9j48NKW",
    "outputId": "de9a50fd-c279-4d0a-abaf-4519f21068d9"
   },
   "outputs": [],
   "source": [
    "def C(N):\n",
    "    sum_h=0\n",
    "    sum_h_square=0\n",
    "    for i in range(N):\n",
    "        x=np.random.normal(0,1)\n",
    "        h=np.exp((x**2)-x**4)\n",
    "        sum_h=sum_h+h\n",
    "        sum_h_square=sum_h_square+(h*h)\n",
    "        \n",
    "    average_h=sum_h/N\n",
    "    a=average_h*np.sqrt(2*np.pi)\n",
    "    c=1/a\n",
    "    return c"
   ]
  },
  {
   "cell_type": "code",
   "execution_count": 52,
   "metadata": {},
   "outputs": [
    {
     "data": {
      "text/plain": [
       "0.4573636032086913"
      ]
     },
     "execution_count": 52,
     "metadata": {},
     "output_type": "execute_result"
    }
   ],
   "source": [
    "N=10**6\n",
    "c=C(N)\n",
    "c"
   ]
  },
  {
   "cell_type": "code",
   "execution_count": 53,
   "metadata": {},
   "outputs": [],
   "source": [
    "def nonuni(N):\n",
    "    accept2=[]\n",
    "    for i in range(10**7):\n",
    "      x=np.random.normal(0,1)\n",
    "      h=np.exp((x**2)-(x**4))/(1.278)\n",
    "      y=np.random.uniform()\n",
    "      if y<=h:\n",
    "        accept2.append(x)\n",
    "    return accept2"
   ]
  },
  {
   "cell_type": "code",
   "execution_count": 54,
   "metadata": {},
   "outputs": [],
   "source": [
    "acc=nonuni(N)"
   ]
  },
  {
   "cell_type": "code",
   "execution_count": 55,
   "metadata": {
    "colab": {
     "base_uri": "https://localhost:8080/",
     "height": 1000
    },
    "executionInfo": {
     "elapsed": 8188,
     "status": "ok",
     "timestamp": 1636334282508,
     "user": {
      "displayName": "noshah noshah",
      "photoUrl": "https://lh3.googleusercontent.com/a-/AOh14GgkTRhrrqPN9HB2tHKYbRJgstsa7FDBTuxCC8HTBQ=s64",
      "userId": "16058168177383914094"
     },
     "user_tz": 360
    },
    "id": "hZh0QXmeielL",
    "outputId": "a8bf3589-cd06-4d22-df75-d542b6eb3154"
   },
   "outputs": [
    {
     "data": {
      "text/plain": [
       "<matplotlib.legend.Legend at 0x11c61a210>"
      ]
     },
     "execution_count": 55,
     "metadata": {},
     "output_type": "execute_result"
    },
    {
     "data": {
      "image/png": "[encoded data removed]",
      "text/plain": [
       "<Figure size 432x288 with 1 Axes>"
      ]
     },
     "metadata": {
      "image/png": {
       "height": 272,
       "width": 378
      },
      "needs_background": "light"
     },
     "output_type": "display_data"
    }
   ],
   "source": [
    "plt.hist(acc,bins=100,density=True,label='Simulated')\n",
    "plt.title('pdf for $exp(x^2/2-x^4)$')\n",
    "plt.xlabel('$x$')\n",
    "plt.ylabel('Probability density')\n",
    "xx=np.linspace(-2,2,100)\n",
    "yy=c*np.exp(0.5*xx**2-xx**4)\n",
    "plt.plot(xx,yy,label=\"actual\")\n",
    "plt.legend()"
   ]
  },
  {
   "cell_type": "markdown",
   "metadata": {},
   "source": [
    "***"
   ]
  }
 ],
 "metadata": {
  "kernelspec": {
   "display_name": "Python 3",
   "language": "python",
   "name": "python3"
  },
  "language_info": {
   "codemirror_mode": {
    "name": "ipython",
    "version": 3
   },
   "file_extension": ".py",
   "mimetype": "text/x-python",
   "name": "python",
   "nbconvert_exporter": "python",
   "pygments_lexer": "ipython3",
   "version": "3.7.6"
  }
 },
 "nbformat": 4,
 "nbformat_minor": 4
}
